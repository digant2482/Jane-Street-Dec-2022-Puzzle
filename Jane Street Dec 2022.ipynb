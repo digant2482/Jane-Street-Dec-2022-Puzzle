{
 "cells": [
  {
   "cell_type": "code",
   "execution_count": 31,
   "id": "51be2330",
   "metadata": {},
   "outputs": [],
   "source": [
    "# A six-sided die, with numbers written on each of its faces, is placed on the 6-by-6 grid above, \n",
    "# in the lower-left (yellow) corner. It then makes a sequence of “moves”. \n",
    "# Each move consists of tipping the die into an orthogonally adjacent square within the grid.\n",
    "\n",
    "# The die starts with a “score” of 0. On the Nth move, \n",
    "# its score increases by N times the value of the die facing up after the move. \n",
    "\n",
    "# However, the die is only allowed to move into a square if its score after the move matches the value in the square. \n",
    "# Also, the die cannot be translated or rotated in place in addition to these moves.\n",
    "\n",
    "# After some number of moves the die arrives in the upper-right (blue) corner.\n",
    "\n",
    "# The answer to this puzzle is the sum of values in the unvisited squares from the die’s journey."
   ]
  },
  {
   "cell_type": "code",
   "execution_count": 32,
   "id": "0498064c",
   "metadata": {},
   "outputs": [],
   "source": [
    "numbers = [[57,33,132,268,492,732],\n",
    "           [81,123,240,443,353,508],\n",
    "           [186,42,195,704,452,228],\n",
    "           [-7,2,357,452,317,395],\n",
    "           [5,23,-4,592,445,620],\n",
    "           [0,77,32,403,337,452]]"
   ]
  },
  {
   "cell_type": "code",
   "execution_count": 33,
   "id": "d4d1cc2d",
   "metadata": {},
   "outputs": [],
   "source": [
    "# if movement on x-axis \n",
    "def get_new_dice_face_config(die_faces_configuration, die_touching_surface_coordi, new_coordi_for_possible_values):\n",
    "\n",
    "    horizontal = die_faces_configuration[0].copy()\n",
    "    vertical = die_faces_configuration[1].copy()\n",
    "    \n",
    "    previous_positionX = die_touching_surface_coordi[0]\n",
    "    previous_positionY = die_touching_surface_coordi[1]\n",
    "\n",
    "    current_positionX = new_coordi_for_possible_values[0]\n",
    "    current_positionY = new_coordi_for_possible_values[1]\n",
    "    \n",
    "    new_horizontal = []\n",
    "    new_vertical = []  \n",
    "    \n",
    "    if previous_positionY > current_positionY:\n",
    "        for i in horizontal:\n",
    "            if i == horizontal[-1]:\n",
    "                new_horizontal.insert(0, i)\n",
    "            else:\n",
    "                new_horizontal.insert((horizontal.index(i) + 1), i)\n",
    "        horizontal = new_horizontal\n",
    "        vertical[1] = horizontal[1] \n",
    "        \n",
    "    elif previous_positionY < current_positionY:\n",
    "        for i in horizontal:\n",
    "            new_horizontal.insert((horizontal.index(i) - 1), i)\n",
    "        horizontal = new_horizontal\n",
    "        vertical[1] = horizontal[1] \n",
    "\n",
    "\n",
    "    elif previous_positionX < current_positionX:\n",
    "        for i in vertical:\n",
    "            new_vertical.insert((vertical.index(i) - 1), i)\n",
    "        vertical = new_vertical\n",
    "        horizontal[1] = vertical[1]\n",
    "        vertical_pop = vertical.pop(-1)\n",
    "        horizontal_pop = horizontal.pop(-1)\n",
    "        horizontal.append(vertical_pop)\n",
    "        vertical.append(horizontal_pop)\n",
    "\n",
    "         \n",
    "\n",
    "    elif previous_positionX > current_positionX:\n",
    "        for i in vertical:\n",
    "            if i == vertical[-1]:\n",
    "                new_vertical.insert(0, i)\n",
    "            else:\n",
    "                new_vertical.insert((vertical.index(i) + 1), i)\n",
    "        vertical = new_vertical\n",
    "        horizontal[1] = vertical[1]\n",
    "        vertical_pop = vertical.pop(0)\n",
    "        horizontal_pop = horizontal.pop(-1)\n",
    "        horizontal.append(vertical_pop)\n",
    "        vertical.insert(0, horizontal_pop)\n",
    "\n",
    "        \n",
    "    if len(set(horizontal)) < 4:\n",
    "        return horizontal\n",
    "    if len(set(vertical)) < 3:\n",
    "        return vertical\n",
    "    new_die_faces_configuration = [horizontal, vertical]\n",
    "    \n",
    "    \n",
    "\n",
    "    return new_die_faces_configuration"
   ]
  },
  {
   "cell_type": "code",
   "execution_count": 34,
   "id": "faa84200",
   "metadata": {},
   "outputs": [],
   "source": [
    "def get_possible_values_from_coordi(x,y):\n",
    "    possible_values = {}\n",
    "    if x+1 <= 5:\n",
    "        possible_values[str(numbers[x+1][y])+'p1'] = [x+1, y]\n",
    "    if y+1 <= 5:    \n",
    "        possible_values[str(numbers[x][y+1])+'p2'] = [x, y+1]\n",
    "    if x-1 >= 0:\n",
    "        possible_values[str(numbers[x-1][y])+'p3'] = [x-1, y]\n",
    "    if y-1 >= 0:\n",
    "        possible_values[str(numbers[x][y-1])+'p4'] = [x, y-1]\n",
    "    return possible_values       "
   ]
  },
  {
   "cell_type": "code",
   "execution_count": 35,
   "id": "3dfc5a9a",
   "metadata": {},
   "outputs": [],
   "source": [
    "def get_opposite_face(current_touching_face):\n",
    "    if current_touching_face == 'n1':\n",
    "        return 'n3'\n",
    "    if current_touching_face == 'n2':\n",
    "        return 'n4'\n",
    "    if current_touching_face == 'n3':\n",
    "        return 'n1'\n",
    "    if current_touching_face == 'n4':\n",
    "        return 'n2'\n",
    "    if current_touching_face == 'n5':\n",
    "        return 'n6'\n",
    "    if current_touching_face == 'n6':\n",
    "        return 'n5'"
   ]
  },
  {
   "cell_type": "code",
   "execution_count": 36,
   "id": "55c51cd0",
   "metadata": {},
   "outputs": [],
   "source": [
    "inital_values_of_faces = {'n1':None, 'n2':None, 'n3':None, 'n4':None, 'n5':None, 'n6':None}"
   ]
  },
  {
   "cell_type": "code",
   "execution_count": 37,
   "id": "2f4ef850",
   "metadata": {},
   "outputs": [],
   "source": [
    "parent_list = []\n",
    "tracking_list = []\n",
    "die_faces_configuration = [['n4','n1','n2','n3'], ['n5', 'n1', 'n6']]\n",
    "die_touching_surface_face = die_faces_configuration[1][1]\n"
   ]
  },
  {
   "cell_type": "code",
   "execution_count": 38,
   "id": "b4704260",
   "metadata": {},
   "outputs": [],
   "source": [
    "variable_for_each_iteration = {'current_move':0, 'current_sum':0, 'die_touching_surface_coordi':[5,0], 'die_touching_surface_face':'n1', 'die_faces_configuration':die_faces_configuration, 'current_numbers_assigned_to_faces':inital_values_of_faces, 'previous_positions_visited':[[5,0]]}\n",
    "parent_list.append(variable_for_each_iteration)"
   ]
  },
  {
   "cell_type": "code",
   "execution_count": 39,
   "id": "6b549062",
   "metadata": {},
   "outputs": [
    {
     "name": "stdout",
     "output_type": "stream",
     "text": [
      "Whoa we won\n",
      "[[5, 0], [4, 0], [4, 1], [4, 2], [5, 2], [5, 1], [4, 1], [3, 1], [2, 1], [1, 1], [0, 1], [0, 2], [1, 2], [1, 1], [1, 0], [2, 0], [2, 1], [2, 2], [3, 2], [3, 3], [4, 3], [5, 3], [5, 4], [5, 5], [4, 5], [3, 5], [3, 4], [3, 3], [2, 3], [1, 3], [1, 4], [1, 5], [0, 5]]\n"
     ]
    }
   ],
   "source": [
    "count = 0\n",
    "while True and count <= 50:\n",
    "    \n",
    "    count+=1\n",
    "    child_list = []\n",
    "    for i in parent_list:\n",
    "#       Unpacking\n",
    "        current_move = i['current_move']\n",
    "        current_sum = i['current_sum']\n",
    "        die_touching_surface_coordi = i['die_touching_surface_coordi']\n",
    "        die_faces_configuration = i['die_faces_configuration']\n",
    "        current_numbers_assigned_to_faces = i['current_numbers_assigned_to_faces']\n",
    "        previous_positions_visited = i['previous_positions_visited']\n",
    "\n",
    "        possible_values = get_possible_values_from_coordi(die_touching_surface_coordi[0], die_touching_surface_coordi[1])\n",
    "#       possible_values = numbers:coordinates \n",
    "        for values in possible_values:\n",
    "                new_coordinates_for_die_might_be = possible_values[values]\n",
    "                new_die_faces_configuration = get_new_dice_face_config(die_faces_configuration, die_touching_surface_coordi, new_coordinates_for_die_might_be)\n",
    "                new_die_touching_surface_face = new_die_faces_configuration[0][1]\n",
    "                \n",
    "                opposite_face = get_opposite_face(new_die_touching_surface_face)\n",
    "                new_current_move = current_move + 1\n",
    "                new_current_numbers_assigned_to_faces = current_numbers_assigned_to_faces.copy()\n",
    "\n",
    "                if new_current_numbers_assigned_to_faces[opposite_face] == None:\n",
    "                        new_current_numbers_assigned_to_faces[opposite_face] = (int(values[:-2])-current_sum)/new_current_move \n",
    "                new_current_sum = current_sum + new_current_numbers_assigned_to_faces[opposite_face]*new_current_move\n",
    "                \n",
    "                if new_current_sum == int(values[:-2]):\n",
    "                    if new_current_sum == 732:\n",
    "                        new_previous_positions_visited = previous_positions_visited.copy()\n",
    "                        new_previous_positions_visited.append(new_coordinates_for_die_might_be)   \n",
    "                        child_list.append({'current_move':new_current_move, 'current_sum':new_current_sum, 'die_touching_surface_coordi':new_coordinates_for_die_might_be, 'die_faces_configuration':new_die_faces_configuration, 'current_numbers_assigned_to_faces':new_current_numbers_assigned_to_faces, 'previous_positions_visited':new_previous_positions_visited})\n",
    "                        tracking_list.append({'current_move':new_current_move, 'current_sum':new_current_sum, 'die_touching_surface_coordi':new_coordinates_for_die_might_be, 'die_faces_configuration':new_die_faces_configuration, 'current_numbers_assigned_to_faces':new_current_numbers_assigned_to_faces, 'previous_positions_visited':new_previous_positions_visited})\n",
    "                        print(\"Whoa we won\")\n",
    "                        print(new_previous_positions_visited)\n",
    "                        break\n",
    "                    new_previous_positions_visited = previous_positions_visited.copy()\n",
    "                    new_previous_positions_visited.append(new_coordinates_for_die_might_be)   \n",
    "                    child_list.append({'current_move':new_current_move, 'current_sum':new_current_sum, 'die_touching_surface_coordi':new_coordinates_for_die_might_be, 'die_faces_configuration':new_die_faces_configuration, 'current_numbers_assigned_to_faces':new_current_numbers_assigned_to_faces, 'previous_positions_visited':new_previous_positions_visited})\n",
    "                    \n",
    "                elif new_current_sum != values:\n",
    "                    continue\n",
    "                else:\n",
    "                    print(\"logic error\")\n",
    "\n",
    "    if child_list == []:\n",
    "        break\n",
    "    parent_list = child_list   "
   ]
  },
  {
   "cell_type": "code",
   "execution_count": 42,
   "id": "8c80456f",
   "metadata": {},
   "outputs": [],
   "source": [
    "repeated_removed_list = []\n",
    "total_places_visited = 0\n",
    "for i in parent_list[0]['previous_positions_visited']:\n",
    "    if i not in repeated_removed_list:\n",
    "        total_places_visited += numbers[i[0]][i[1]]\n",
    "        repeated_removed_list.append(i)"
   ]
  },
  {
   "cell_type": "code",
   "execution_count": 43,
   "id": "37b5dd2d",
   "metadata": {},
   "outputs": [
    {
     "data": {
      "text/plain": [
       "9767"
      ]
     },
     "execution_count": 43,
     "metadata": {},
     "output_type": "execute_result"
    }
   ],
   "source": [
    "total_of_all_places = 0\n",
    "for i in numbers:\n",
    "    for j in i:\n",
    "        total_of_all_places += j\n",
    "total_of_all_places"
   ]
  },
  {
   "cell_type": "code",
   "execution_count": 44,
   "id": "c3a7a2e2",
   "metadata": {},
   "outputs": [
    {
     "data": {
      "text/plain": [
       "1935"
      ]
     },
     "execution_count": 44,
     "metadata": {},
     "output_type": "execute_result"
    }
   ],
   "source": [
    "total_of_all_places - total_places_visited"
   ]
  }
 ],
 "metadata": {
  "kernelspec": {
   "display_name": "Python 3 (ipykernel)",
   "language": "python",
   "name": "python3"
  },
  "language_info": {
   "codemirror_mode": {
    "name": "ipython",
    "version": 3
   },
   "file_extension": ".py",
   "mimetype": "text/x-python",
   "name": "python",
   "nbconvert_exporter": "python",
   "pygments_lexer": "ipython3",
   "version": "3.9.13"
  }
 },
 "nbformat": 4,
 "nbformat_minor": 5
}
